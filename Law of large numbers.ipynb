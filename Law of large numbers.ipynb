{
 "cells": [
  {
   "cell_type": "code",
   "execution_count": 141,
   "metadata": {
    "collapsed": false
   },
   "outputs": [
    {
     "name": "stdout",
     "output_type": "stream",
     "text": [
      "68.216\n"
     ]
    }
   ],
   "source": [
    "import numpy as np\n",
    "from numpy.random import randn\n",
    "\n",
    "N = 100000\n",
    "ran = None\n",
    "count = 0\n",
    "for i in range(N):\n",
    "    ran = randn()\n",
    "    if(ran >= -1 and ran <= 1):\n",
    "        count = count + 1\n",
    "Mean = (count / N) * 100\n",
    "print(Mean)"
   ]
  },
  {
   "cell_type": "code",
   "execution_count": 263,
   "metadata": {
    "collapsed": false
   },
   "outputs": [
    {
     "name": "stdout",
     "output_type": "stream",
     "text": [
      "68.17999999999999\n"
     ]
    }
   ],
   "source": [
    "# increase N to reach 68.2% closure, run multiple times and observe\n",
    "import numpy as np\n",
    "from numpy.random import randn\n",
    "\n",
    "count = 0\n",
    "N = 10000\n",
    "for i in randn(N):\n",
    "    if(i >= -1 and i <= 1):\n",
    "        count = count + 1\n",
    "Mean = ( count / N ) * 100\n",
    "print(Mean)"
   ]
  }
 ],
 "metadata": {
  "kernelspec": {
   "display_name": "Python [default]",
   "language": "python",
   "name": "python3"
  },
  "language_info": {
   "codemirror_mode": {
    "name": "ipython",
    "version": 3
   },
   "file_extension": ".py",
   "mimetype": "text/x-python",
   "name": "python",
   "nbconvert_exporter": "python",
   "pygments_lexer": "ipython3",
   "version": "3.5.2"
  }
 },
 "nbformat": 4,
 "nbformat_minor": 1
}
