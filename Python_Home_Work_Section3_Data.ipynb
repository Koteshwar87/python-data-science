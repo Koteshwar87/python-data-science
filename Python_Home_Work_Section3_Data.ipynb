{
 "cells": [
  {
   "cell_type": "code",
   "execution_count": 1,
   "metadata": {
    "collapsed": true
   },
   "outputs": [],
   "source": [
    "#Data \n",
    "revenue = [14574.49, 7606.46, 8611.41, 9175.41, 8058.65, 8105.44, 11496.28, 9766.09, 10305.32, 14379.96, 10713.97, 15433.50]\n",
    "expenses = [12051.82, 5695.07, 12319.20, 12089.72, 8658.57, 840.20, 3285.73, 5821.12, 6976.93, 16618.61, 10054.37, 3803.96]"
   ]
  },
  {
   "cell_type": "code",
   "execution_count": 49,
   "metadata": {
    "collapsed": false
   },
   "outputs": [
    {
     "name": "stdout",
     "output_type": "stream",
     "text": [
      "profit_rounded =  [2522.67, 1911.39, -3707.79, -2914.31, -599.92, 7265.24, 8210.55, 3944.97, 3328.39, -2238.65, 659.6, 11629.54]\n"
     ]
    }
   ],
   "source": [
    "# Profit for each month\n",
    "import numpy as np\n",
    "profit_rounded = []\n",
    "for i in range(len(revenue)):\n",
    "    profit_rounded.append(round((revenue[i] - expenses[i]), 2))\n",
    "    profit.append(revenue[i] - expenses[i])\n",
    "\n",
    "print(\"profit_rounded = \", profit_rounded)"
   ]
  },
  {
   "cell_type": "code",
   "execution_count": 10,
   "metadata": {
    "collapsed": true
   },
   "outputs": [],
   "source": [
    "# Comprehension\n",
    "# a = [1, 2, 3]\n",
    "# double_a = [i * 2 for i in a]"
   ]
  },
  {
   "cell_type": "code",
   "execution_count": 42,
   "metadata": {
    "collapsed": false
   },
   "outputs": [
    {
     "name": "stdout",
     "output_type": "stream",
     "text": [
      "revenue_after_tax =  [1766, 1338, -2595, -2040, -420, 5086, 5747, 2761, 2330, -1567, 462, 8141]\n"
     ]
    }
   ],
   "source": [
    "# revenue_after_tax = [(i - (30 / i)) for i in revenue]\n",
    "# Profit after tax for each month\n",
    "profit_after_tax = []\n",
    "for i in profit:\n",
    "    profit_after_tax.append(round(i - (i * 30)/100))\n",
    "\n",
    "print(\"profit_after_tax = \", profit_after_tax)"
   ]
  },
  {
   "cell_type": "code",
   "execution_count": 43,
   "metadata": {
    "collapsed": false
   },
   "outputs": [
    {
     "name": "stdout",
     "output_type": "stream",
     "text": [
      "tax =  [4372, 2282, 2583, 2753, 2418, 2432, 3449, 2930, 3092, 4314, 3214, 4630]\n",
      "[12.117062072154841, 17.59031139321051, -30.13443791434852, -22.233338891668055, -5.211791056814728, 62.74798160247933, 49.99008374883005, 28.271293834072797, 22.60968121319862, -10.897109588621943, 4.31212706401082, 52.74889040075161]\n"
     ]
    }
   ],
   "source": [
    "# profit margin for each month\n",
    "profit_margin = []\n",
    "tax = []\n",
    "for i in revenue:\n",
    "    tax.append(round((i * 30)/100))\n",
    "print(\"tax = \", tax)\n",
    "\n",
    "for i, j in zip(profit_after_tax, revenue):\n",
    "    profit_margin.append((i / j)*100)\n",
    "\n",
    "print(profit_margin)"
   ]
  },
  {
   "cell_type": "code",
   "execution_count": 44,
   "metadata": {
    "collapsed": false
   },
   "outputs": [
    {
     "name": "stdout",
     "output_type": "stream",
     "text": [
      "1750.75\n"
     ]
    }
   ],
   "source": [
    "profit_sum = 0\n",
    "mean_profit = 0\n",
    "for i in profit_after_tax:\n",
    "    profit_sum = profit_sum + i\n",
    "mean_profit = profit_sum / len(profit_after_tax)\n",
    "\n",
    "print(mean_profit)"
   ]
  },
  {
   "cell_type": "code",
   "execution_count": null,
   "metadata": {
    "collapsed": true
   },
   "outputs": [],
   "source": [
    "# good months\n"
   ]
  }
 ],
 "metadata": {
  "kernelspec": {
   "display_name": "Python [conda root]",
   "language": "python",
   "name": "conda-root-py"
  },
  "language_info": {
   "codemirror_mode": {
    "name": "ipython",
    "version": 3
   },
   "file_extension": ".py",
   "mimetype": "text/x-python",
   "name": "python",
   "nbconvert_exporter": "python",
   "pygments_lexer": "ipython3",
   "version": "3.5.2"
  }
 },
 "nbformat": 4,
 "nbformat_minor": 1
}
